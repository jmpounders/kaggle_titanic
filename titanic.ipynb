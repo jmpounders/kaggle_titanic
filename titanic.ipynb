{
 "cells": [
  {
   "cell_type": "code",
   "execution_count": 1,
   "metadata": {
    "collapsed": false
   },
   "outputs": [],
   "source": [
    "%matplotlib inline\n",
    "import csv\n",
    "import numpy as np\n",
    "import pandas as pd\n",
    "import matplotlib.pyplot as plt\n",
    "from functools import partial\n",
    "from sklearn.linear_model import LogisticRegression\n",
    "from sklearn.ensemble import RandomForestClassifier\n",
    "from sklearn import cross_validation"
   ]
  },
  {
   "cell_type": "markdown",
   "metadata": {},
   "source": [
    "# Initialization"
   ]
  },
  {
   "cell_type": "markdown",
   "metadata": {},
   "source": [
    "Read the training and test data:"
   ]
  },
  {
   "cell_type": "code",
   "execution_count": 2,
   "metadata": {
    "collapsed": false
   },
   "outputs": [],
   "source": [
    "df = pd.read_csv('train.csv', header=0)\n",
    "df_test = pd.read_csv('test.csv', header=0)"
   ]
  },
  {
   "cell_type": "code",
   "execution_count": 3,
   "metadata": {
    "collapsed": false
   },
   "outputs": [
    {
     "data": {
      "text/html": [
       "<div>\n",
       "<table border=\"1\" class=\"dataframe\">\n",
       "  <thead>\n",
       "    <tr style=\"text-align: right;\">\n",
       "      <th></th>\n",
       "      <th>PassengerId</th>\n",
       "      <th>Survived</th>\n",
       "      <th>Pclass</th>\n",
       "      <th>Name</th>\n",
       "      <th>Sex</th>\n",
       "      <th>Age</th>\n",
       "      <th>SibSp</th>\n",
       "      <th>Parch</th>\n",
       "      <th>Ticket</th>\n",
       "      <th>Fare</th>\n",
       "      <th>Cabin</th>\n",
       "      <th>Embarked</th>\n",
       "    </tr>\n",
       "  </thead>\n",
       "  <tbody>\n",
       "    <tr>\n",
       "      <th>0</th>\n",
       "      <td>1</td>\n",
       "      <td>0</td>\n",
       "      <td>3</td>\n",
       "      <td>Braund, Mr. Owen Harris</td>\n",
       "      <td>male</td>\n",
       "      <td>22.0</td>\n",
       "      <td>1</td>\n",
       "      <td>0</td>\n",
       "      <td>A/5 21171</td>\n",
       "      <td>7.2500</td>\n",
       "      <td>NaN</td>\n",
       "      <td>S</td>\n",
       "    </tr>\n",
       "    <tr>\n",
       "      <th>1</th>\n",
       "      <td>2</td>\n",
       "      <td>1</td>\n",
       "      <td>1</td>\n",
       "      <td>Cumings, Mrs. John Bradley (Florence Briggs Th...</td>\n",
       "      <td>female</td>\n",
       "      <td>38.0</td>\n",
       "      <td>1</td>\n",
       "      <td>0</td>\n",
       "      <td>PC 17599</td>\n",
       "      <td>71.2833</td>\n",
       "      <td>C85</td>\n",
       "      <td>C</td>\n",
       "    </tr>\n",
       "    <tr>\n",
       "      <th>2</th>\n",
       "      <td>3</td>\n",
       "      <td>1</td>\n",
       "      <td>3</td>\n",
       "      <td>Heikkinen, Miss. Laina</td>\n",
       "      <td>female</td>\n",
       "      <td>26.0</td>\n",
       "      <td>0</td>\n",
       "      <td>0</td>\n",
       "      <td>STON/O2. 3101282</td>\n",
       "      <td>7.9250</td>\n",
       "      <td>NaN</td>\n",
       "      <td>S</td>\n",
       "    </tr>\n",
       "    <tr>\n",
       "      <th>3</th>\n",
       "      <td>4</td>\n",
       "      <td>1</td>\n",
       "      <td>1</td>\n",
       "      <td>Futrelle, Mrs. Jacques Heath (Lily May Peel)</td>\n",
       "      <td>female</td>\n",
       "      <td>35.0</td>\n",
       "      <td>1</td>\n",
       "      <td>0</td>\n",
       "      <td>113803</td>\n",
       "      <td>53.1000</td>\n",
       "      <td>C123</td>\n",
       "      <td>S</td>\n",
       "    </tr>\n",
       "    <tr>\n",
       "      <th>4</th>\n",
       "      <td>5</td>\n",
       "      <td>0</td>\n",
       "      <td>3</td>\n",
       "      <td>Allen, Mr. William Henry</td>\n",
       "      <td>male</td>\n",
       "      <td>35.0</td>\n",
       "      <td>0</td>\n",
       "      <td>0</td>\n",
       "      <td>373450</td>\n",
       "      <td>8.0500</td>\n",
       "      <td>NaN</td>\n",
       "      <td>S</td>\n",
       "    </tr>\n",
       "  </tbody>\n",
       "</table>\n",
       "</div>"
      ],
      "text/plain": [
       "   PassengerId  Survived  Pclass  \\\n",
       "0            1         0       3   \n",
       "1            2         1       1   \n",
       "2            3         1       3   \n",
       "3            4         1       1   \n",
       "4            5         0       3   \n",
       "\n",
       "                                                Name     Sex   Age  SibSp  \\\n",
       "0                            Braund, Mr. Owen Harris    male  22.0      1   \n",
       "1  Cumings, Mrs. John Bradley (Florence Briggs Th...  female  38.0      1   \n",
       "2                             Heikkinen, Miss. Laina  female  26.0      0   \n",
       "3       Futrelle, Mrs. Jacques Heath (Lily May Peel)  female  35.0      1   \n",
       "4                           Allen, Mr. William Henry    male  35.0      0   \n",
       "\n",
       "   Parch            Ticket     Fare Cabin Embarked  \n",
       "0      0         A/5 21171   7.2500   NaN        S  \n",
       "1      0          PC 17599  71.2833   C85        C  \n",
       "2      0  STON/O2. 3101282   7.9250   NaN        S  \n",
       "3      0            113803  53.1000  C123        S  \n",
       "4      0            373450   8.0500   NaN        S  "
      ]
     },
     "execution_count": 3,
     "metadata": {},
     "output_type": "execute_result"
    }
   ],
   "source": [
    "df.head()"
   ]
  },
  {
   "cell_type": "code",
   "execution_count": 4,
   "metadata": {
    "collapsed": false
   },
   "outputs": [
    {
     "name": "stdout",
     "output_type": "stream",
     "text": [
      "<class 'pandas.core.frame.DataFrame'>\n",
      "RangeIndex: 891 entries, 0 to 890\n",
      "Data columns (total 12 columns):\n",
      "PassengerId    891 non-null int64\n",
      "Survived       891 non-null int64\n",
      "Pclass         891 non-null int64\n",
      "Name           891 non-null object\n",
      "Sex            891 non-null object\n",
      "Age            714 non-null float64\n",
      "SibSp          891 non-null int64\n",
      "Parch          891 non-null int64\n",
      "Ticket         891 non-null object\n",
      "Fare           891 non-null float64\n",
      "Cabin          204 non-null object\n",
      "Embarked       889 non-null object\n",
      "dtypes: float64(2), int64(5), object(5)\n",
      "memory usage: 83.6+ KB\n",
      "None\n",
      "\n",
      "<class 'pandas.core.frame.DataFrame'>\n",
      "RangeIndex: 418 entries, 0 to 417\n",
      "Data columns (total 11 columns):\n",
      "PassengerId    418 non-null int64\n",
      "Pclass         418 non-null int64\n",
      "Name           418 non-null object\n",
      "Sex            418 non-null object\n",
      "Age            332 non-null float64\n",
      "SibSp          418 non-null int64\n",
      "Parch          418 non-null int64\n",
      "Ticket         418 non-null object\n",
      "Fare           417 non-null float64\n",
      "Cabin          91 non-null object\n",
      "Embarked       418 non-null object\n",
      "dtypes: float64(2), int64(4), object(5)\n",
      "memory usage: 36.0+ KB\n",
      "None\n"
     ]
    }
   ],
   "source": [
    "print df.info()\n",
    "print\n",
    "print df_test.info()"
   ]
  },
  {
   "cell_type": "markdown",
   "metadata": {},
   "source": [
    "# Data Cleaning and Prep"
   ]
  },
  {
   "cell_type": "markdown",
   "metadata": {},
   "source": [
    "I am going to approach data cleaning as a set of composable functions.  That way I can set up the functions once and apply them to both the training and test data.  "
   ]
  },
  {
   "cell_type": "code",
   "execution_count": 5,
   "metadata": {
    "collapsed": true
   },
   "outputs": [],
   "source": [
    "prep_data_funcs = {}"
   ]
  },
  {
   "cell_type": "code",
   "execution_count": 6,
   "metadata": {
    "collapsed": true
   },
   "outputs": [],
   "source": [
    "def prep_data(df, prep_funcs, verbose=False) :\n",
    "    for name,func in prep_funcs.items() :\n",
    "        if verbose : print 'Applying function ' + name\n",
    "        df = func(df)\n",
    "        \n",
    "    return df"
   ]
  },
  {
   "cell_type": "markdown",
   "metadata": {},
   "source": [
    "## Cabin"
   ]
  },
  {
   "cell_type": "markdown",
   "metadata": {},
   "source": [
    "There is a lot of Cabin data missing.  Will ignore that feature for now."
   ]
  },
  {
   "cell_type": "code",
   "execution_count": 7,
   "metadata": {
    "collapsed": false
   },
   "outputs": [],
   "source": [
    "prep_data_funcs['Drop cabin'] = lambda df : df.drop('Cabin',axis=1)"
   ]
  },
  {
   "cell_type": "markdown",
   "metadata": {},
   "source": [
    "## Age"
   ]
  },
  {
   "cell_type": "markdown",
   "metadata": {},
   "source": [
    "The \"Age\" variable is also missing a lot of entries.  Let's look closer."
   ]
  },
  {
   "cell_type": "code",
   "execution_count": 8,
   "metadata": {
    "collapsed": false
   },
   "outputs": [
    {
     "name": "stdout",
     "output_type": "stream",
     "text": [
      "Mean age is  29.6991176471\n",
      "Median age is  28.0\n"
     ]
    },
    {
     "data": {
      "image/png": "[encoded data removed]",
      "text/plain": [
       "<matplotlib.figure.Figure at 0x115466a50>"
      ]
     },
     "metadata": {},
     "output_type": "display_data"
    }
   ],
   "source": [
    "df['Age'].hist()\n",
    "plt.xlabel('Age')\n",
    "plt.ylabel('Count')\n",
    "\n",
    "print 'Mean age is ', df['Age'].mean()\n",
    "print 'Median age is ', df['Age'].median()"
   ]
  },
  {
   "cell_type": "markdown",
   "metadata": {},
   "source": [
    "Calculate median age by gender and passenger class"
   ]
  },
  {
   "cell_type": "code",
   "execution_count": 23,
   "metadata": {
    "collapsed": false
   },
   "outputs": [
    {
     "name": "stdout",
     "output_type": "stream",
     "text": [
      "Median Ages:\n",
      "           1     2     3\n",
      "female  35.0  28.0  21.5\n",
      "male    40.0  30.0  25.0\n",
      "\n",
      "Mean Ages:\n",
      "                1          2          3\n",
      "female  34.611765  28.722973  21.750000\n",
      "male    41.281386  30.740707  26.507589\n",
      "\n",
      "Standard Deviation of Ages:\n",
      "                1          2          3\n",
      "female  13.612052  12.872702  12.729964\n",
      "male    15.139570  14.793894  12.159514\n"
     ]
    }
   ],
   "source": [
    "median_ages = np.zeros((2,3))\n",
    "mean_ages = np.zeros((2,3))\n",
    "std_ages = np.zeros((2,3))\n",
    "gender = ('female', 'male')\n",
    "for i in range(0,2) : # gender\n",
    "    for j in range(0,3) : # passenger class\n",
    "        median_ages[i,j] = df[(df['Sex']==gender[i]) & (df['Pclass']==j+1)]['Age'].dropna().median()\n",
    "        mean_ages[i,j] = df[(df['Sex']==gender[i]) & (df['Pclass']==j+1)]['Age'].dropna().mean()\n",
    "        std_ages[i,j] = df[(df['Sex']==gender[i]) & (df['Pclass']==j+1)]['Age'].dropna().std()\n",
    "        \n",
    "print \"Median Ages:\"\n",
    "print pd.DataFrame(median_ages,index=gender,columns=(1,2,3))\n",
    "print\n",
    "print \"Mean Ages:\"\n",
    "print pd.DataFrame(mean_ages,index=gender,columns=(1,2,3))\n",
    "print\n",
    "print \"Standard Deviation of Ages:\"\n",
    "print pd.DataFrame(std_ages,index=gender,columns=(1,2,3))"
   ]
  },
  {
   "cell_type": "markdown",
   "metadata": {},
   "source": [
    "Populate missing age values with the medians calculated above"
   ]
  },
  {
   "cell_type": "code",
   "execution_count": 24,
   "metadata": {
    "collapsed": true
   },
   "outputs": [],
   "source": [
    "def map_sex_and_fill_age(df,age_map) : \n",
    "    df['Gender'] = df['Sex'].map({'female':0, 'male':1}).astype(int)\n",
    "    df = df.drop('Sex', axis=1)\n",
    "\n",
    "    df['AgeFill'] = df['Age']\n",
    "    for i in range(0, 2):\n",
    "        for j in range(0, 3):\n",
    "            df.loc[ (df.Age.isnull()) & (df.Gender == i) & (df.Pclass == j+1),'AgeFill'] = age_map[i,j]\n",
    "            \n",
    "    return df.drop('Age', axis=1)\n",
    "\n",
    "prep_data_funcs['Map sex and fill age'] = partial(map_sex_and_fill_age,age_map=median_ages)"
   ]
  },
  {
   "cell_type": "markdown",
   "metadata": {},
   "source": [
    "Drop features that seem irrelevant"
   ]
  },
  {
   "cell_type": "code",
   "execution_count": 25,
   "metadata": {
    "collapsed": true
   },
   "outputs": [],
   "source": [
    "prep_data_funcs['Drop irrelevant features'] = lambda df: df.drop(['PassengerId', 'Ticket', 'Fare'], axis=1)"
   ]
  },
  {
   "cell_type": "markdown",
   "metadata": {},
   "source": [
    "## Embarked"
   ]
  },
  {
   "cell_type": "markdown",
   "metadata": {},
   "source": [
    "What about where they embarked from? There are two missing values in the training set, none in the testing set."
   ]
  },
  {
   "cell_type": "code",
   "execution_count": 26,
   "metadata": {
    "collapsed": false,
    "scrolled": true
   },
   "outputs": [
    {
     "name": "stdout",
     "output_type": "stream",
     "text": [
      "S    644\n",
      "C    168\n",
      "Q     77\n",
      "Name: Embarked, dtype: int64\n",
      "S    646\n",
      "C    168\n",
      "Q     77\n",
      "Name: Embarked, dtype: int64\n"
     ]
    }
   ],
   "source": [
    "print df['Embarked'].value_counts()\n",
    "df['Embarked'] = df['Embarked'].fillna('S')\n",
    "print df['Embarked'].value_counts()"
   ]
  },
  {
   "cell_type": "code",
   "execution_count": 27,
   "metadata": {
    "collapsed": false
   },
   "outputs": [],
   "source": [
    "def map_embarked(df) :\n",
    "    df['Embarked_S'] = 0\n",
    "    df.loc[df['Embarked']=='S','Embarked_S'] = 1\n",
    "    df['Embarked_C'] = 0\n",
    "    df.loc[df['Embarked']=='C','Embarked_C'] = 1\n",
    "    df['Embarked_Q'] = 0\n",
    "    df.loc[df['Embarked']=='Q','Embarked_Q'] = 1\n",
    "    return df.drop('Embarked',axis=1)\n",
    "\n",
    "prep_data_funcs['Map Embarked'] = map_embarked"
   ]
  },
  {
   "cell_type": "markdown",
   "metadata": {},
   "source": [
    "## Name and Title"
   ]
  },
  {
   "cell_type": "markdown",
   "metadata": {},
   "source": [
    "Apparently a passenger's title is a good indicator of survival"
   ]
  },
  {
   "cell_type": "code",
   "execution_count": 28,
   "metadata": {
    "collapsed": false
   },
   "outputs": [
    {
     "data": {
      "text/plain": [
       "Mr              517\n",
       "Miss            182\n",
       "Mrs             125\n",
       "Master           40\n",
       "Dr                7\n",
       "Rev               6\n",
       "Mlle              2\n",
       "Col               2\n",
       "Major             2\n",
       "Lady              1\n",
       "Jonkheer          1\n",
       "Don               1\n",
       "Ms                1\n",
       "Mme               1\n",
       "Capt              1\n",
       "the Countess      1\n",
       "Sir               1\n",
       "Name: 1, dtype: int64"
      ]
     },
     "execution_count": 28,
     "metadata": {},
     "output_type": "execute_result"
    }
   ],
   "source": [
    "df['Name'].str.extract(\"(.*, )([^\\.]+)\", expand=False)[1].value_counts()"
   ]
  },
  {
   "cell_type": "code",
   "execution_count": 29,
   "metadata": {
    "collapsed": false
   },
   "outputs": [],
   "source": [
    "def create_titles(df) :\n",
    "    title = df['Name'].str.extract(\"(.*, )([^\\.]+)\", expand=False)[1]\n",
    "    \n",
    "    df['Mr'] = 0\n",
    "    df['Mrs'] = 0\n",
    "    df['Miss'] = 0\n",
    "    df['Master'] = 0\n",
    "    df.loc[title.isin(['Mr','Sir','Dr','Rev','Major','Col','Don','Jonkheer','Capt']),'Mr'] = 1\n",
    "    df.loc[title.isin(['Mrs','Ms','Lady','Mme','the Countess','Dona']),'Mrs'] = 1\n",
    "    df.loc[title.isin(['Miss','Mlle']),'Miss'] = 1\n",
    "    df.loc[title.isin(['Master']),'Master'] = 1\n",
    "    return df.drop('Name',axis=1)\n",
    "\n",
    "prep_data_funcs['Make titles'] = create_titles"
   ]
  },
  {
   "cell_type": "markdown",
   "metadata": {},
   "source": [
    "Clean up all of the data"
   ]
  },
  {
   "cell_type": "code",
   "execution_count": 30,
   "metadata": {
    "collapsed": false
   },
   "outputs": [
    {
     "name": "stdout",
     "output_type": "stream",
     "text": [
      "<class 'pandas.core.frame.DataFrame'>\n",
      "RangeIndex: 418 entries, 0 to 417\n",
      "Data columns (total 12 columns):\n",
      "Pclass        418 non-null int64\n",
      "SibSp         418 non-null int64\n",
      "Parch         418 non-null int64\n",
      "Mr            418 non-null int64\n",
      "Mrs           418 non-null int64\n",
      "Miss          418 non-null int64\n",
      "Master        418 non-null int64\n",
      "Gender        418 non-null int64\n",
      "AgeFill       418 non-null float64\n",
      "Embarked_S    418 non-null int64\n",
      "Embarked_C    418 non-null int64\n",
      "Embarked_Q    418 non-null int64\n",
      "dtypes: float64(1), int64(11)\n",
      "memory usage: 39.3 KB\n",
      "None\n",
      "\n",
      "<class 'pandas.core.frame.DataFrame'>\n",
      "RangeIndex: 891 entries, 0 to 890\n",
      "Data columns (total 12 columns):\n",
      "Pclass        891 non-null int64\n",
      "SibSp         891 non-null int64\n",
      "Parch         891 non-null int64\n",
      "Mr            891 non-null int64\n",
      "Mrs           891 non-null int64\n",
      "Miss          891 non-null int64\n",
      "Master        891 non-null int64\n",
      "Gender        891 non-null int64\n",
      "AgeFill       891 non-null float64\n",
      "Embarked_S    891 non-null int64\n",
      "Embarked_C    891 non-null int64\n",
      "Embarked_Q    891 non-null int64\n",
      "dtypes: float64(1), int64(11)\n",
      "memory usage: 83.6 KB\n",
      "None\n"
     ]
    }
   ],
   "source": [
    "train_data = prep_data(df,prep_data_funcs)\n",
    "test_data = prep_data(df_test,prep_data_funcs)\n",
    "y = train_data.pop('Survived')\n",
    "\n",
    "print test_data.info()\n",
    "print\n",
    "print train_data.info()"
   ]
  },
  {
   "cell_type": "markdown",
   "metadata": {},
   "source": [
    "# Feature Investigation"
   ]
  },
  {
   "cell_type": "markdown",
   "metadata": {},
   "source": [
    "## 0. Overall survival rate"
   ]
  },
  {
   "cell_type": "code",
   "execution_count": 42,
   "metadata": {
    "collapsed": false
   },
   "outputs": [
    {
     "name": "stdout",
     "output_type": "stream",
     "text": [
      "0.383838383838\n"
     ]
    }
   ],
   "source": [
    "print len(df[y==1])/float(len(df))"
   ]
  },
  {
   "cell_type": "markdown",
   "metadata": {},
   "source": [
    "## 1. Age"
   ]
  },
  {
   "cell_type": "code",
   "execution_count": 43,
   "metadata": {
    "collapsed": false,
    "scrolled": false
   },
   "outputs": [
    {
     "data": {
      "text/plain": [
       "<matplotlib.text.Text at 0x1153f2550>"
      ]
     },
     "execution_count": 43,
     "metadata": {},
     "output_type": "execute_result"
    },
    {
     "data": {
      "image/png": "[encoded data removed]",
      "text/plain": [
       "<matplotlib.figure.Figure at 0x118db4950>"
      ]
     },
     "metadata": {},
     "output_type": "display_data"
    },
    {
     "data": {
      "image/png": "[encoded data removed]",
      "text/plain": [
       "<matplotlib.figure.Figure at 0x117a68910>"
      ]
     },
     "metadata": {},
     "output_type": "display_data"
    }
   ],
   "source": [
    "#plt.plot(train_data['AgeFill'],train_data['Gender'],'ro')\n",
    "plt.figure()\n",
    "nd,bins,_ = plt.hist((train_data[y==0]['AgeFill'],\n",
    "                      train_data[y==1]['AgeFill']),\n",
    "                    histtype='bar',stacked=False,label=['Died','Survived'])\n",
    "plt.xlabel('Age')\n",
    "plt.legend()\n",
    "\n",
    "plt.figure()\n",
    "plt.bar((bins[0:-1]+bins[1:])/2.0,nd[1]/(nd[1]+nd[0]),width=bins[1:]-bins[0:-1])\n",
    "plt.xlabel('Age')\n",
    "plt.ylabel('Survival rate')"
   ]
  },
  {
   "cell_type": "markdown",
   "metadata": {},
   "source": [
    "Looks like children had higher than average survival rate"
   ]
  },
  {
   "cell_type": "code",
   "execution_count": 44,
   "metadata": {
    "collapsed": true
   },
   "outputs": [],
   "source": [
    "def create_child_feature(df) :\n",
    "    df['Child'] = 0\n",
    "    df.loc[df['AgeFill']<15,'Child'] = 1\n",
    "    return df"
   ]
  },
  {
   "cell_type": "markdown",
   "metadata": {},
   "source": [
    "## SibSp"
   ]
  },
  {
   "cell_type": "code",
   "execution_count": 45,
   "metadata": {
    "collapsed": false,
    "scrolled": false
   },
   "outputs": [
    {
     "name": "stdout",
     "output_type": "stream",
     "text": [
      "Survival # wrt to number of Sib/Sp\n",
      "0    210\n",
      "1    112\n",
      "2     13\n",
      "3      4\n",
      "4      3\n",
      "Name: SibSp, dtype: int64\n"
     ]
    },
    {
     "data": {
      "text/plain": [
       "<matplotlib.text.Text at 0x11a03ea10>"
      ]
     },
     "execution_count": 45,
     "metadata": {},
     "output_type": "execute_result"
    },
    {
     "data": {
      "image/png": "[encoded data removed]",
      "text/plain": [
       "<matplotlib.figure.Figure at 0x119e79250>"
      ]
     },
     "metadata": {},
     "output_type": "display_data"
    },
    {
     "data": {
      "image/png": "[encoded data removed]",
      "text/plain": [
       "<matplotlib.figure.Figure at 0x119e79710>"
      ]
     },
     "metadata": {},
     "output_type": "display_data"
    }
   ],
   "source": [
    "df['SibSp'].hist()\n",
    "plt.xlabel('# of Sib/Sp')\n",
    "plt.ylabel('Count')\n",
    "\n",
    "n_surv = df.loc[y==1,'SibSp'].value_counts()\n",
    "n_tot = df['SibSp'].value_counts()\n",
    "print 'Survival # wrt to number of Sib/Sp'\n",
    "print n_surv\n",
    "\n",
    "a = [(i,n_surv[i]/float(n_tot[i])) for i in range(10) if i in n_surv]\n",
    "n,f = zip(*a)\n",
    "plt.figure()\n",
    "plt.bar(n,f,align='center')\n",
    "plt.xlabel('# of Sib/Sp')\n",
    "plt.ylabel('Survival Rate')"
   ]
  },
  {
   "cell_type": "markdown",
   "metadata": {},
   "source": [
    "From this it looks like there is a (near) linear relationship between `SibSp` and Survival unless there is no Sibling/Spouse."
   ]
  },
  {
   "cell_type": "code",
   "execution_count": 46,
   "metadata": {
    "collapsed": false
   },
   "outputs": [],
   "source": [
    "def create_sibsp_feature(df) :\n",
    "    df['SibSp12'] = 0\n",
    "    df.loc[df['SibSp']==1,'SibSp12'] = 1\n",
    "    df.loc[df['SibSp']==1,'SibSp12'] = 1\n",
    "    df['SibSp0'] = 0\n",
    "    df.loc[df['SibSp']==0,'SibSp0'] = 1\n",
    "    df['SibSpGt2'] = 0\n",
    "    df.loc[df['SibSp']>2,'SibSpGt2'] = 1\n",
    "    return df.drop('SibSp',axis=1)"
   ]
  },
  {
   "cell_type": "markdown",
   "metadata": {},
   "source": [
    "## Parch"
   ]
  },
  {
   "cell_type": "code",
   "execution_count": 47,
   "metadata": {
    "collapsed": false
   },
   "outputs": [
    {
     "name": "stdout",
     "output_type": "stream",
     "text": [
      "Survival # wrt to number of Par/Ch\n",
      "0    233\n",
      "1     65\n",
      "2     40\n",
      "3      3\n",
      "5      1\n",
      "Name: Parch, dtype: int64\n"
     ]
    },
    {
     "data": {
      "text/plain": [
       "<matplotlib.text.Text at 0x11a334c90>"
      ]
     },
     "execution_count": 47,
     "metadata": {},
     "output_type": "execute_result"
    },
    {
     "data": {
      "image/png": "[encoded data removed]",
      "text/plain": [
       "<matplotlib.figure.Figure at 0x1189ee710>"
      ]
     },
     "metadata": {},
     "output_type": "display_data"
    },
    {
     "data": {
      "image/png": "[encoded data removed]",
      "text/plain": [
       "<matplotlib.figure.Figure at 0x119ee8590>"
      ]
     },
     "metadata": {},
     "output_type": "display_data"
    }
   ],
   "source": [
    "df['Parch'].hist()\n",
    "plt.xlabel('# of Par/Ch')\n",
    "plt.ylabel('Count')\n",
    "\n",
    "n_surv = df.loc[y==1,'Parch'].value_counts()\n",
    "n_tot = df['Parch'].value_counts()\n",
    "print 'Survival # wrt to number of Par/Ch'\n",
    "print n_surv\n",
    "\n",
    "a = [(i,n_surv[i]/float(n_tot[i])) for i in range(10) if i in n_surv]\n",
    "n,f = zip(*a)\n",
    "plt.figure()\n",
    "plt.bar(n,f,align='center')\n",
    "plt.xlabel('# of Par/Ch')\n",
    "plt.ylabel('Survival Rate')"
   ]
  },
  {
   "cell_type": "code",
   "execution_count": 48,
   "metadata": {
    "collapsed": true
   },
   "outputs": [],
   "source": [
    "def create_parch_feature(df) :\n",
    "    df['Parch123'] = 0\n",
    "    df.loc[df['Parch']==1,'Parch123'] = 1\n",
    "    df.loc[df['Parch']==2,'Parch123'] = 1\n",
    "    df.loc[df['Parch']==3,'Parch123'] = 1\n",
    "    return df.drop('Parch',axis=1)"
   ]
  },
  {
   "cell_type": "code",
   "execution_count": 49,
   "metadata": {
    "collapsed": false
   },
   "outputs": [
    {
     "name": "stdout",
     "output_type": "stream",
     "text": [
      "<class 'pandas.core.frame.DataFrame'>\n",
      "RangeIndex: 891 entries, 0 to 890\n",
      "Data columns (total 12 columns):\n",
      "Pclass        891 non-null int64\n",
      "SibSp         891 non-null int64\n",
      "Parch         891 non-null int64\n",
      "Mr            891 non-null int64\n",
      "Mrs           891 non-null int64\n",
      "Miss          891 non-null int64\n",
      "Master        891 non-null int64\n",
      "Gender        891 non-null int64\n",
      "AgeFill       891 non-null float64\n",
      "Embarked_S    891 non-null int64\n",
      "Embarked_C    891 non-null int64\n",
      "Embarked_Q    891 non-null int64\n",
      "dtypes: float64(1), int64(11)\n",
      "memory usage: 83.6 KB\n"
     ]
    }
   ],
   "source": [
    "train_data.info()"
   ]
  },
  {
   "cell_type": "code",
   "execution_count": 50,
   "metadata": {
    "collapsed": true
   },
   "outputs": [],
   "source": [
    "def feature_selection(data) :\n",
    "    data_ext = data.copy()\n",
    "    data_ext = create_child_feature(data_ext)\n",
    "    data_ext = create_sibsp_feature(data_ext)\n",
    "    data_ext = create_parch_feature(data_ext)\n",
    "    #data_ext['SibSp^2'] = data_ext['SibSp']**2\n",
    "    #data_ext['SibSp^3'] = data_ext['SibSp']**3\n",
    "    data_ext.drop('AgeFill',axis=1,inplace=True)\n",
    "    \n",
    "    #data_ext['Age^2'] = data['AgeFill']**2\n",
    "    \n",
    "\n",
    "    return (data_ext - data_ext.mean())/data_ext.std()"
   ]
  },
  {
   "cell_type": "code",
   "execution_count": 63,
   "metadata": {
    "collapsed": false
   },
   "outputs": [
    {
     "name": "stdout",
     "output_type": "stream",
     "text": [
      "niter =  5\n",
      "Prediction accuracy =  0.821548821549\n",
      "5-Fold cross validation =  0.814855909329\n",
      "Pclass -0.852735927852\n",
      "Mr -0.503225412403\n",
      "Mrs 0.202043865767\n",
      "Miss 0.145300467554\n",
      "Master 0.561242383283\n",
      "Gender -0.790267683233\n",
      "Embarked_S -0.0979982304635\n",
      "Embarked_C 0.0920116810092\n",
      "Embarked_Q 0.0276373648571\n",
      "Child 0.0919227128971\n",
      "SibSp12 -0.0623474589134\n",
      "SibSp0 0.0301384731933\n",
      "SibSpGt2 -0.568255950416\n",
      "Parch123 -0.0598260436481\n"
     ]
    }
   ],
   "source": [
    "train_data_ext = feature_selection(train_data)\n",
    "test_data_ext = feature_selection(test_data)\n",
    "\n",
    "lr = LogisticRegression(tol=1.0e-4)\n",
    "lr.fit(train_data_ext.values,y)\n",
    "output = lr.predict(train_data_ext.values)\n",
    "\n",
    "print 'niter = ', lr.n_iter_\n",
    "print 'Prediction accuracy = ', sum(y==output)/float(len(output))\n",
    "print '5-Fold cross validation = ', np.mean(cross_validation.cross_val_score(lr, train_data_ext, y, cv=5))\n",
    "\n",
    "output = lr.predict(test_data_ext.values)\n",
    "\n",
    "for col,coeff in zip(train_data_ext.columns,lr.coef_[0]) :\n",
    "    print col, coeff\n",
    "\n",
    "with open('output_lr.csv','wb') as csv_file :\n",
    "    output_file = csv.writer(csv_file)\n",
    "    output_file.writerow([\"PassengerId\", \"Survived\"])\n",
    "    for pid,s in zip(df_test['PassengerId'],output) :       # For each row in test.csv\n",
    "        output_file.writerow([pid,int(s)])"
   ]
  },
  {
   "cell_type": "code",
   "execution_count": 64,
   "metadata": {
    "collapsed": false
   },
   "outputs": [
    {
     "name": "stdout",
     "output_type": "stream",
     "text": [
      "Prediction accuracy =  0.854096520763\n",
      "5-Fold cross validation =  0.82159755329\n"
     ]
    }
   ],
   "source": [
    "train_data_ext = feature_selection(train_data)\n",
    "test_data_ext = feature_selection(test_data)\n",
    "\n",
    "forest = RandomForestClassifier(n_estimators = 100)\n",
    "forest = forest.fit(train_data_ext.values,y)\n",
    "output = forest.predict(train_data_ext.values)\n",
    "\n",
    "print 'Prediction accuracy = ', sum(y==output)/float(len(output))\n",
    "print '5-Fold cross validation = ', np.mean(cross_validation.cross_val_score(forest, train_data_ext, y, cv=5))\n",
    "\n",
    "output = forest.predict(test_data_ext.values)\n",
    "\n",
    "with open('output_rf.csv','wb') as csv_file :\n",
    "    output_file = csv.writer(csv_file)\n",
    "    output_file.writerow([\"PassengerId\", \"Survived\"])\n",
    "    for pid,s in zip(df_test['PassengerId'],output) :       # For each row in test.csv\n",
    "        output_file.writerow([pid,int(s)])"
   ]
  },
  {
   "cell_type": "markdown",
   "metadata": {
    "collapsed": true
   },
   "source": [
    "Should categorical variables \"work\" with logistic regression?\n",
    "Maybe make as seperate features..."
   ]
  },
  {
   "cell_type": "code",
   "execution_count": null,
   "metadata": {
    "collapsed": true
   },
   "outputs": [],
   "source": []
  }
 ],
 "metadata": {
  "kernelspec": {
   "display_name": "Python 2",
   "language": "python",
   "name": "python2"
  },
  "language_info": {
   "codemirror_mode": {
    "name": "ipython",
    "version": 2
   },
   "file_extension": ".py",
   "mimetype": "text/x-python",
   "name": "python",
   "nbconvert_exporter": "python",
   "pygments_lexer": "ipython2",
   "version": "2.7.12"
  }
 },
 "nbformat": 4,
 "nbformat_minor": 0
}
